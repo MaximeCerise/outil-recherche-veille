{
 "cells": [
  {
   "cell_type": "code",
   "execution_count": null,
   "metadata": {},
   "outputs": [],
   "source": [
    "import requests\n",
    "\n",
    "SERPAPI_KEY = \"743f818cfcf1f42e011e3e9a9babfa56ce95ea112fba659bcc80140fb318aced\"\n",
    "GOOGLE_SCHOLAR_API = \"https://serpapi.com/search.json\"\n",
    "\n",
    "def search_google_scholar(query: str):\n",
    "    params = {\n",
    "        \"q\": query,\n",
    "        \"engine\": \"google_scholar\",\n",
    "        \"api_key\": SERPAPI_KEY\n",
    "    }\n",
    "    \n",
    "    response = requests.get(GOOGLE_SCHOLAR_API, params=params)\n",
    "    data = response.json()\n",
    "\n",
    "    results = []\n",
    "    save_article = []\n",
    "    for article in data.get(\"organic_results\", []):\n",
    "        save_article.append(article)\n",
    "        title = article.get(\"title\", \"Titre inconnu\")\n",
    "        summary = article.get(\"snippet\", \"Résumé non disponible\")\n",
    "        date = article.get(\"publication_info\", {})\n",
    "        summary = article.get(\"snippet\", \"Résumé non disponible\")\n",
    "        link = article.get(\"link\", \"Lien non disponible\")\n",
    "\n",
    "        results.append({\n",
    "            \"title\": title,\n",
    "            \"date\": date,\n",
    "            \"summary\": summary,\n",
    "            \"link\": link\n",
    "        })\n",
    "\n",
    "    return results, save_article"
   ]
  },
  {
   "cell_type": "code",
   "execution_count": 19,
   "metadata": {},
   "outputs": [],
   "source": [
    "r, a = search_google_scholar(\"machine learning\")"
   ]
  },
  {
   "cell_type": "code",
   "execution_count": 20,
   "metadata": {},
   "outputs": [
    {
     "data": {
      "text/plain": [
       "{'title': 'Machine learning algorithms-a review',\n",
       " 'date': {'summary': 'B Mahesh - International Journal of Science and Research …, 2020 - researchgate.net'},\n",
       " 'summary': '… Here‟sa quick look at some of the commonly used algorithms in machine learning (ML) Supervised Learning Supervised learning is the machine learning task of learning a function …',\n",
       " 'link': 'https://www.researchgate.net/profile/Batta-Mahesh/publication/344717762_Machine_Learning_Algorithms_-A_Review/links/5f8b2365299bf1b53e2d243a/Machine-Learning-Algorithms-A-Review.pdf?eid=5082902844932096t'}"
      ]
     },
     "execution_count": 20,
     "metadata": {},
     "output_type": "execute_result"
    }
   ],
   "source": [
    "r[0]"
   ]
  },
  {
   "cell_type": "code",
   "execution_count": 24,
   "metadata": {},
   "outputs": [
    {
     "data": {
      "text/plain": [
       "'… Here‟sa quick look at some of the commonly used algorithms in machine learning (ML) Supervised Learning Supervised learning is the machine learning task of learning a function …'"
      ]
     },
     "execution_count": 24,
     "metadata": {},
     "output_type": "execute_result"
    }
   ],
   "source": [
    "a[0].get(\"snippet\", \"non dispo\")"
   ]
  },
  {
   "cell_type": "code",
   "execution_count": null,
   "metadata": {},
   "outputs": [],
   "source": []
  }
 ],
 "metadata": {
  "kernelspec": {
   "display_name": ".venv",
   "language": "python",
   "name": "python3"
  },
  "language_info": {
   "codemirror_mode": {
    "name": "ipython",
    "version": 3
   },
   "file_extension": ".py",
   "mimetype": "text/x-python",
   "name": "python",
   "nbconvert_exporter": "python",
   "pygments_lexer": "ipython3",
   "version": "3.12.9"
  }
 },
 "nbformat": 4,
 "nbformat_minor": 2
}
